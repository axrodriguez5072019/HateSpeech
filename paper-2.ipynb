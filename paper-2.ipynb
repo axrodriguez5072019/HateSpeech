{
 "cells": [
  {
   "cell_type": "markdown",
   "metadata": {},
   "source": [
    "# Paper 2: Thesis paper using SVM + BOG and Bigrams"
   ]
  },
  {
   "cell_type": "code",
   "execution_count": 21,
   "metadata": {},
   "outputs": [],
   "source": [
    "import json\n",
    "import numpy as np\n",
    "\n",
    "from sklearn.feature_extraction.text import CountVectorizer\n",
    "from sklearn.feature_extraction.text import TfidfTransformer\n",
    "\n",
    "from sklearn import svm\n",
    "from sklearn.naive_bayes import MultinomialNB\n",
    "from sklearn.linear_model import SGDClassifier\n",
    "from sklearn.pipeline import Pipeline\n",
    "\n",
    "from sklearn.model_selection import GridSearchCV\n",
    "from sklearn.model_selection import cross_validate"
   ]
  },
  {
   "cell_type": "code",
   "execution_count": 22,
   "metadata": {},
   "outputs": [],
   "source": [
    "def printScores(scores):\n",
    "    from statistics import mean\n",
    "    test_precision_micro = mean(scores['test_precision_micro'])\n",
    "\n",
    "    test_precision_macro = mean(scores['test_precision_macro'])\n",
    "\n",
    "    test_recall_micro = mean(scores['test_recall_micro'])\n",
    "\n",
    "    test_recall_macro = mean(scores['test_recall_macro'])\n",
    "\n",
    "    test_f1_micro = mean(scores['test_f1_micro'])\n",
    "\n",
    "    test_f1_macro = mean(scores['test_f1_macro'])\n",
    "\n",
    "    print(\"Macro\")\n",
    "    print(\"average precision is %f\"%test_precision_macro)\n",
    "    print(\"average recall is %f\"%test_recall_macro)\n",
    "    print(\"average f1 is %f\"%test_f1_macro)\n",
    "\n",
    "    print(\"Micro\")\n",
    "    print(\"average precision is %f\"%test_precision_micro)\n",
    "    print(\"average recall is %f\"%test_recall_micro)\n",
    "    print(\"average f1 is %f\"%test_f1_micro)"
   ]
  },
  {
   "cell_type": "markdown",
   "metadata": {},
   "source": [
    "### Load data"
   ]
  },
  {
   "cell_type": "code",
   "execution_count": 23,
   "metadata": {},
   "outputs": [],
   "source": [
    "json_samples = []\n",
    "X = []\n",
    "y = []\n",
    "\n",
    "indices_1 = []\n",
    "indices_0 = []\n",
    "#with open('../twitter-hatespeech/data/data_manual.json') as json_file:\n",
    "with open('data_manual_axel_plus_turk.json') as json_file:\n",
    "    data = json.load(json_file)\n",
    "    \n",
    "    \n",
    "    \n",
    "    for i, p in enumerate(data):\n",
    "        if i == 1197:\n",
    "            continue\n",
    "            \n",
    "        text = p['text']\n",
    "        X.append(text)\n",
    "        if \"no_hs\" in p[\"label\"]:\n",
    "            \n",
    "            y.append(0)\n",
    "            indices_0.append(i)\n",
    "        else:\n",
    "            y.append(1)\n",
    "            indices_1.append(i)\n",
    "            \n",
    "    "
   ]
  },
  {
   "cell_type": "code",
   "execution_count": 24,
   "metadata": {},
   "outputs": [
    {
     "name": "stdout",
     "output_type": "stream",
     "text": [
      "658\n",
      "658\n",
      "289\n",
      "369\n",
      "289\n",
      "369\n"
     ]
    }
   ],
   "source": [
    "print(len(y))\n",
    "print(len(X))\n",
    "print(y.count(0))\n",
    "print(y.count(1))\n",
    "print(len(indices_0))\n",
    "print(len(indices_1))"
   ]
  },
  {
   "cell_type": "markdown",
   "metadata": {},
   "source": [
    "### Extract features"
   ]
  },
  {
   "cell_type": "code",
   "execution_count": 25,
   "metadata": {},
   "outputs": [],
   "source": [
    "'''count_vect = CountVectorizer()\n",
    "X_train_counts = count_vect.fit_transform(X)\n",
    "print(X_train_counts.shape)\n",
    "\n",
    "tf_transformer = TfidfTransformer(use_idf=False).fit(X_train_counts)\n",
    "X_train_tf = tf_transformer.transform(X_train_counts)\n",
    "print(X_train_tf.shape)\n",
    "'''\n",
    "text_clf = Pipeline([('vect', CountVectorizer()),\n",
    "                     ('tfidf', TfidfTransformer(use_idf=False)),\n",
    "                     ('clf', SGDClassifier(loss='hinge', penalty='l2', # hinge gives an SVM\n",
    "                                           alpha=1e-3, random_state=42,\n",
    "                                           max_iter=5, tol=None)),\n",
    "                    ])\n",
    "\n",
    "#text_clf.fit(X, y)"
   ]
  },
  {
   "cell_type": "code",
   "execution_count": 26,
   "metadata": {},
   "outputs": [
    {
     "name": "stderr",
     "output_type": "stream",
     "text": [
      "/usr/local/lib/python3.5/dist-packages/sklearn/metrics/classification.py:1135: UndefinedMetricWarning: Precision is ill-defined and being set to 0.0 in labels with no predicted samples.\n",
      "  'precision', 'predicted', average, warn_for)\n",
      "/usr/local/lib/python3.5/dist-packages/sklearn/metrics/classification.py:1135: UndefinedMetricWarning: F-score is ill-defined and being set to 0.0 in labels with no predicted samples.\n",
      "  'precision', 'predicted', average, warn_for)\n",
      "/usr/local/lib/python3.5/dist-packages/sklearn/metrics/classification.py:1135: UndefinedMetricWarning: Precision is ill-defined and being set to 0.0 in labels with no predicted samples.\n",
      "  'precision', 'predicted', average, warn_for)\n",
      "/usr/local/lib/python3.5/dist-packages/sklearn/metrics/classification.py:1135: UndefinedMetricWarning: F-score is ill-defined and being set to 0.0 in labels with no predicted samples.\n",
      "  'precision', 'predicted', average, warn_for)\n",
      "/usr/local/lib/python3.5/dist-packages/sklearn/metrics/classification.py:1135: UndefinedMetricWarning: Precision is ill-defined and being set to 0.0 in labels with no predicted samples.\n",
      "  'precision', 'predicted', average, warn_for)\n",
      "/usr/local/lib/python3.5/dist-packages/sklearn/metrics/classification.py:1135: UndefinedMetricWarning: F-score is ill-defined and being set to 0.0 in labels with no predicted samples.\n",
      "  'precision', 'predicted', average, warn_for)\n"
     ]
    },
    {
     "name": "stdout",
     "output_type": "stream",
     "text": [
      "{'train_recall_weighted': array([0.98648649, 0.56081081, 0.89189189, 0.9847973 , 0.99155405,\n",
      "       1.        , 1.        , 0.56081081, 0.98817568, 0.56060606]), 'train_precision_macro': array([0.98507463, 0.28040541, 0.8938231 , 0.98327138, 0.99087568,\n",
      "       1.        , 1.        , 0.28040541, 0.98864626, 0.28030303]), 'test_recall_macro': array([0.57688723, 0.5       , 0.47017707, 0.43802423, 0.42823858,\n",
      "       0.54007456, 0.54473439, 0.5       , 0.54706431, 0.5       ]), 'test_f1': array([0.6       , 0.7184466 , 0.30188679, 0.38709677, 0.33898305,\n",
      "       0.52307692, 0.63291139, 0.7184466 , 0.6744186 , 0.72      ]), 'test_recall_micro': array([0.57575758, 0.56060606, 0.43939394, 0.42424242, 0.40909091,\n",
      "       0.53030303, 0.56060606, 0.56060606, 0.57575758, 0.5625    ]), 'train_f1_macro': array([0.98632668, 0.35930736, 0.89164951, 0.98462315, 0.99143774,\n",
      "       1.        , 1.        , 0.35930736, 0.9879828 , 0.3592233 ]), 'test_f1_macro': array([0.57419355, 0.3592233 , 0.41676618, 0.42211982, 0.40236824,\n",
      "       0.53019518, 0.54287079, 0.3592233 , 0.53286148, 0.36      ]), 'train_precision': array([1.        , 0.56081081, 0.96527778, 1.        , 0.99696049,\n",
      "       1.        , 1.        , 0.56081081, 0.98507463, 0.56060606]), 'train_recall': array([0.97590361, 1.        , 0.8373494 , 0.97289157, 0.98795181,\n",
      "       1.        , 1.        , 1.        , 0.9939759 , 1.        ]), 'score_time': array([0.08865833, 0.06873131, 0.06449986, 0.0994947 , 0.10218644,\n",
      "       0.10104489, 0.09547687, 0.06212592, 0.08143544, 0.05653954]), 'train_precision_micro': array([0.98648649, 0.56081081, 0.89189189, 0.9847973 , 0.99155405,\n",
      "       1.        , 1.        , 0.56081081, 0.98817568, 0.56060606]), 'test_recall_weighted': array([0.57575758, 0.56060606, 0.43939394, 0.42424242, 0.40909091,\n",
      "       0.53030303, 0.56060606, 0.56060606, 0.57575758, 0.5625    ]), 'fit_time': array([0.82464266, 0.68327045, 0.85067534, 0.95053577, 0.92216778,\n",
      "       0.86629748, 0.84064627, 0.80557537, 0.9079566 , 0.75834608]), 'train_recall_micro': array([0.98648649, 0.56081081, 0.89189189, 0.9847973 , 0.99155405,\n",
      "       1.        , 1.        , 0.56081081, 0.98817568, 0.56060606]), 'test_precision': array([0.63636364, 0.56060606, 0.5       , 0.48      , 0.45454545,\n",
      "       0.60714286, 0.5952381 , 0.56060606, 0.59183673, 0.5625    ]), 'test_recall': array([0.56756757, 1.        , 0.21621622, 0.32432432, 0.27027027,\n",
      "       0.45945946, 0.67567568, 1.        , 0.78378378, 1.        ]), 'train_accuracy': array([0.98648649, 0.56081081, 0.89189189, 0.9847973 , 0.99155405,\n",
      "       1.        , 1.        , 0.56081081, 0.98817568, 0.56060606]), 'test_precision_weighted': array([0.58310376, 0.31427916, 0.46484848, 0.44056171, 0.42458678,\n",
      "       0.54850194, 0.55339105, 0.31427916, 0.56440758, 0.31640625]), 'test_f1_micro': array([0.57575758, 0.56060606, 0.43939394, 0.42424242, 0.40909091,\n",
      "       0.53030303, 0.56060606, 0.56060606, 0.57575758, 0.5625    ]), 'train_f1': array([0.98780488, 0.71861472, 0.89677419, 0.98625954, 0.9924357 ,\n",
      "       1.        , 1.        , 0.71861472, 0.98950525, 0.7184466 ]), 'test_f1_weighted': array([0.5773216 , 0.40276552, 0.40284141, 0.4178746 , 0.39468518,\n",
      "       0.52933236, 0.5537848 , 0.40276552, 0.55001992, 0.405     ]), 'test_precision_micro': array([0.57575758, 0.56060606, 0.43939394, 0.42424242, 0.40909091,\n",
      "       0.53030303, 0.56060606, 0.56060606, 0.57575758, 0.5625    ]), 'train_f1_micro': array([0.98648649, 0.56081081, 0.89189189, 0.9847973 , 0.99155405,\n",
      "       1.        , 1.        , 0.56081081, 0.98817568, 0.56060606]), 'test_precision_macro': array([0.57575758, 0.28030303, 0.46      , 0.43512195, 0.42045455,\n",
      "       0.54041353, 0.54761905, 0.28030303, 0.56062425, 0.28125   ]), 'test_accuracy': array([0.57575758, 0.56060606, 0.43939394, 0.42424242, 0.40909091,\n",
      "       0.53030303, 0.56060606, 0.56060606, 0.57575758, 0.5625    ]), 'train_precision_weighted': array([0.98688987, 0.31450877, 0.90251353, 0.98530594, 0.99161572,\n",
      "       1.        , 1.        , 0.31450877, 0.98821187, 0.31427916]), 'train_f1_weighted': array([0.98650646, 0.4030069 , 0.89227278, 0.98482217, 0.99155911,\n",
      "       1.        , 1.        , 0.4030069 , 0.98816796, 0.40276552]), 'train_recall_macro': array([0.98795181, 0.5       , 0.89944393, 0.98644578, 0.99205283,\n",
      "       1.        , 1.        , 0.5       , 0.98737257, 0.5       ])}\n",
      "0.5683893731838937\n"
     ]
    }
   ],
   "source": [
    "parameters = {\n",
    "    'vect__ngram_range': [(1, 1), (1, 2)],\n",
    "    'tfidf__use_idf': (True, False),\n",
    "    'clf__alpha': (1e-2, 1e-3),\n",
    "}\n",
    "\n",
    "scoring = ['accuracy','precision', 'recall','f1',\n",
    "           'precision_micro', 'precision_macro', 'precision_weighted',\n",
    "           'recall_micro', 'recall_macro', 'recall_weighted',\n",
    "           'f1_micro','f1_macro','f1_weighted']\n",
    "\n",
    "gs_clf = GridSearchCV(text_clf, parameters, iid=False, n_jobs=-1)\n",
    "gs_clf = gs_clf.fit(X, y)\n",
    "scores = cross_validate(gs_clf, X, y, cv=10, scoring=scoring)\n",
    "print(scores)\n",
    "print(gs_clf.best_score_)                              \n",
    "#print(gs_clf.best_estimator_.C)\n"
   ]
  },
  {
   "cell_type": "code",
   "execution_count": 27,
   "metadata": {},
   "outputs": [
    {
     "name": "stdout",
     "output_type": "stream",
     "text": [
      "0.5683893731838937\n",
      "clf__alpha: 0.001\n",
      "tfidf__use_idf: False\n",
      "vect__ngram_range: (1, 2)\n"
     ]
    }
   ],
   "source": [
    "print(gs_clf.best_score_)                                  \n",
    "for param_name in sorted(parameters.keys()):\n",
    "    print(\"%s: %r\" % (param_name, gs_clf.best_params_[param_name]))"
   ]
  },
  {
   "cell_type": "markdown",
   "metadata": {},
   "source": [
    "## Experiments:"
   ]
  },
  {
   "cell_type": "markdown",
   "metadata": {},
   "source": [
    "### BOW + Counts"
   ]
  },
  {
   "cell_type": "code",
   "execution_count": 28,
   "metadata": {},
   "outputs": [
    {
     "name": "stdout",
     "output_type": "stream",
     "text": [
      "dict_keys(['vect__input', 'clf__probability', 'vect__min_df', 'vect__vocabulary', 'clf__class_weight', 'clf__coef0', 'clf__kernel', 'vect__dtype', 'vect__decode_error', 'vect__max_df', 'clf__degree', 'memory', 'vect__analyzer', 'clf', 'clf__shrinking', 'vect__token_pattern', 'clf__tol', 'clf__max_iter', 'vect__binary', 'clf__verbose', 'vect__tokenizer', 'vect', 'vect__max_features', 'vect__strip_accents', 'clf__cache_size', 'vect__ngram_range', 'clf__C', 'vect__encoding', 'clf__gamma', 'clf__random_state', 'vect__stop_words', 'vect__preprocessor', 'vect__lowercase', 'clf__decision_function_shape', 'steps'])\n"
     ]
    },
    {
     "name": "stderr",
     "output_type": "stream",
     "text": [
      "/usr/local/lib/python3.5/dist-packages/sklearn/metrics/classification.py:1135: UndefinedMetricWarning: Precision is ill-defined and being set to 0.0 in labels with no predicted samples.\n",
      "  'precision', 'predicted', average, warn_for)\n",
      "/usr/local/lib/python3.5/dist-packages/sklearn/metrics/classification.py:1135: UndefinedMetricWarning: F-score is ill-defined and being set to 0.0 in labels with no predicted samples.\n",
      "  'precision', 'predicted', average, warn_for)\n",
      "/usr/local/lib/python3.5/dist-packages/sklearn/metrics/classification.py:1135: UndefinedMetricWarning: Precision is ill-defined and being set to 0.0 in labels with no predicted samples.\n",
      "  'precision', 'predicted', average, warn_for)\n",
      "/usr/local/lib/python3.5/dist-packages/sklearn/metrics/classification.py:1135: UndefinedMetricWarning: F-score is ill-defined and being set to 0.0 in labels with no predicted samples.\n",
      "  'precision', 'predicted', average, warn_for)\n"
     ]
    },
    {
     "name": "stdout",
     "output_type": "stream",
     "text": [
      "{'train_recall_weighted': array([1.        , 0.56081081, 1.        , 1.        , 1.        ,\n",
      "       0.71114865, 1.        , 0.97804054, 0.98141892, 0.56060606]), 'train_precision_macro': array([1.        , 0.28040541, 1.        , 1.        , 1.        ,\n",
      "       0.78093188, 1.        , 0.98115942, 0.98277309, 0.28030303]), 'test_recall_macro': array([0.56570363, 0.5       , 0.42684063, 0.50186393, 0.49673812,\n",
      "       0.47809879, 0.56057782, 0.5778192 , 0.60857409, 0.5       ]), 'test_f1': array([0.63157895, 0.7184466 , 0.44117647, 0.52173913, 0.6       ,\n",
      "       0.64444444, 0.68965517, 0.69767442, 0.72093023, 0.72      ]), 'test_recall_micro': array([0.57575758, 0.56060606, 0.42424242, 0.5       , 0.51515152,\n",
      "       0.51515152, 0.59090909, 0.60606061, 0.63636364, 0.5625    ]), 'train_f1_macro': array([1.        , 0.35930736, 1.        , 1.        , 1.        ,\n",
      "       0.66535208, 1.        , 0.97757831, 0.98108203, 0.3592233 ]), 'test_f1_macro': array([0.56578947, 0.3592233 , 0.42371324, 0.4989648 , 0.49230769,\n",
      "       0.44126984, 0.54482759, 0.56622851, 0.59959555, 0.36      ]), 'train_precision': array([1.        , 0.56081081, 1.        , 1.        , 1.        ,\n",
      "       0.66805846, 1.        , 0.96231884, 0.97345133, 0.56060606]), 'train_recall': array([1.        , 1.        , 1.        , 1.        , 1.        ,\n",
      "       0.96385542, 1.        , 1.        , 0.9939759 , 1.        ]), 'score_time': array([0.18516874, 0.21286678, 0.18885016, 0.20539308, 0.20312095,\n",
      "       0.26669478, 0.18933773, 0.17526436, 0.17333555, 0.17346001]), 'train_precision_micro': array([1.        , 0.56081081, 1.        , 1.        , 1.        ,\n",
      "       0.71114865, 1.        , 0.97804054, 0.98141892, 0.56060606]), 'test_recall_weighted': array([0.57575758, 0.56060606, 0.42424242, 0.5       , 0.51515152,\n",
      "       0.51515152, 0.59090909, 0.60606061, 0.63636364, 0.5625    ]), 'fit_time': array([1.00671601, 0.86397481, 0.99946451, 1.01703906, 0.97658563,\n",
      "       0.905931  , 1.00038171, 0.86812186, 0.97809553, 1.0475769 ]), 'train_recall_micro': array([1.        , 0.56081081, 1.        , 1.        , 1.        ,\n",
      "       0.71114865, 1.        , 0.97804054, 0.98141892, 0.56060606]), 'test_precision': array([0.61538462, 0.56060606, 0.48387097, 0.5625    , 0.55813953,\n",
      "       0.54716981, 0.6       , 0.6122449 , 0.63265306, 0.5625    ]), 'test_recall': array([0.64864865, 1.        , 0.40540541, 0.48648649, 0.64864865,\n",
      "       0.78378378, 0.81081081, 0.81081081, 0.83783784, 1.        ]), 'train_accuracy': array([1.        , 0.56081081, 1.        , 1.        , 1.        ,\n",
      "       0.71114865, 1.        , 0.97804054, 0.98141892, 0.56060606]), 'test_precision_weighted': array([0.57282224, 0.31427916, 0.43446446, 0.50919118, 0.50393725,\n",
      "       0.47574438, 0.58352273, 0.60169522, 0.63898287, 0.31640625]), 'test_f1_micro': array([0.57575758, 0.56060606, 0.42424242, 0.5       , 0.51515152,\n",
      "       0.51515152, 0.59090909, 0.60606061, 0.63636364, 0.5625    ]), 'train_f1': array([1.        , 0.71861472, 1.        , 1.        , 1.        ,\n",
      "       0.7891492 , 1.        , 0.98079764, 0.98360656, 0.7184466 ]), 'test_f1_weighted': array([0.57376396, 0.40276552, 0.42582999, 0.50172533, 0.50536131,\n",
      "       0.46589707, 0.56238245, 0.58216135, 0.61430279, 0.405     ]), 'test_precision_micro': array([0.57575758, 0.56060606, 0.42424242, 0.5       , 0.51515152,\n",
      "       0.51515152, 0.59090909, 0.60606061, 0.63636364, 0.5625    ]), 'train_f1_micro': array([1.        , 0.56081081, 1.        , 1.        , 1.        ,\n",
      "       0.71114865, 1.        , 0.97804054, 0.98141892, 0.56060606]), 'test_precision_macro': array([0.56695157, 0.28030303, 0.42764977, 0.50183824, 0.49646107,\n",
      "       0.4658926 , 0.58125   , 0.6002401 , 0.63985594, 0.28125   ]), 'test_accuracy': array([0.57575758, 0.56060606, 0.42424242, 0.5       , 0.51515152,\n",
      "       0.51515152, 0.59090909, 0.60606061, 0.63636364, 0.5625    ]), 'train_precision_weighted': array([1.        , 0.31450877, 1.        , 1.        , 1.        ,\n",
      "       0.76720403, 1.        , 0.978868  , 0.98163937, 0.31427916]), 'train_f1_weighted': array([1.        , 0.4030069 , 1.        , 1.        , 1.        ,\n",
      "       0.68040849, 1.        , 0.97796985, 0.98138907, 0.40276552]), 'train_recall_macro': array([1.        , 0.5       , 1.        , 1.        , 1.        ,\n",
      "       0.67615848, 1.        , 0.975     , 0.97968026, 0.5       ])}\n",
      "0.5714335132143351\n"
     ]
    }
   ],
   "source": [
    "text_clf = Pipeline([('vect', CountVectorizer()),\n",
    "                     ('clf', svm.SVC(kernel='linear', C=1, random_state=0)),\n",
    "                    ])\n",
    "print(text_clf.get_params().keys())\n",
    "Cs = np.logspace(-6, 3, 10)\n",
    "parameters = {\n",
    "    'vect__ngram_range': [(1, 1)],\n",
    "    #'clf__alpha': (1e-2, 1e-3),\n",
    "    \"clf__C\":Cs,\n",
    "}\n",
    "\n",
    "scoring = ['accuracy','precision', 'recall','f1',\n",
    "           'precision_micro', 'precision_macro', 'precision_weighted',\n",
    "           'recall_micro', 'recall_macro', 'recall_weighted',\n",
    "           'f1_micro','f1_macro','f1_weighted']\n",
    "\n",
    "gs_clf = GridSearchCV(text_clf, parameters, iid=False, n_jobs=-1)\n",
    "gs_clf = gs_clf.fit(X, y)\n",
    "scores1 = cross_validate(gs_clf, X, y, cv=10, scoring=scoring)\n",
    "print(scores1)\n",
    "print(gs_clf.best_score_)                              \n",
    "#print(gs_clf.best_estimator_.C)"
   ]
  },
  {
   "cell_type": "code",
   "execution_count": 29,
   "metadata": {},
   "outputs": [
    {
     "name": "stdout",
     "output_type": "stream",
     "text": [
      "0.5714335132143351\n",
      "clf__C: 1.0\n",
      "vect__ngram_range: (1, 1)\n"
     ]
    }
   ],
   "source": [
    "print(gs_clf.best_score_)                                  \n",
    "for param_name in sorted(parameters.keys()):\n",
    "    print(\"%s: %r\" % (param_name, gs_clf.best_params_[param_name]))"
   ]
  },
  {
   "cell_type": "code",
   "execution_count": 30,
   "metadata": {},
   "outputs": [
    {
     "name": "stdout",
     "output_type": "stream",
     "text": [
      "Macro\n",
      "average precision is 0.484169\n",
      "average recall is 0.521622\n",
      "average f1 is 0.485192\n",
      "Micro\n",
      "average precision is 0.548674\n",
      "average recall is 0.548674\n",
      "average f1 is 0.548674\n"
     ]
    }
   ],
   "source": [
    "printScores(scores1)"
   ]
  },
  {
   "cell_type": "markdown",
   "metadata": {},
   "source": [
    "### BOW + Frequencies"
   ]
  },
  {
   "cell_type": "code",
   "execution_count": 31,
   "metadata": {},
   "outputs": [
    {
     "name": "stdout",
     "output_type": "stream",
     "text": [
      "dict_keys(['vect__input', 'clf__probability', 'vect__min_df', 'vect__vocabulary', 'clf__class_weight', 'clf__coef0', 'clf__kernel', 'vect__dtype', 'clf__gamma', 'vect__decode_error', 'vect__max_df', 'tfidf__sublinear_tf', 'memory', 'vect__analyzer', 'clf', 'clf__shrinking', 'tfidf__norm', 'vect__token_pattern', 'tfidf__smooth_idf', 'clf__max_iter', 'vect__binary', 'clf__verbose', 'vect__tokenizer', 'tfidf__use_idf', 'clf__degree', 'vect', 'vect__max_features', 'vect__strip_accents', 'clf__cache_size', 'tfidf', 'vect__ngram_range', 'clf__C', 'vect__encoding', 'clf__tol', 'clf__random_state', 'vect__stop_words', 'vect__preprocessor', 'vect__lowercase', 'clf__decision_function_shape', 'steps'])\n"
     ]
    },
    {
     "name": "stderr",
     "output_type": "stream",
     "text": [
      "/usr/local/lib/python3.5/dist-packages/sklearn/metrics/classification.py:1135: UndefinedMetricWarning: Precision is ill-defined and being set to 0.0 in labels with no predicted samples.\n",
      "  'precision', 'predicted', average, warn_for)\n",
      "/usr/local/lib/python3.5/dist-packages/sklearn/metrics/classification.py:1135: UndefinedMetricWarning: F-score is ill-defined and being set to 0.0 in labels with no predicted samples.\n",
      "  'precision', 'predicted', average, warn_for)\n",
      "/usr/local/lib/python3.5/dist-packages/sklearn/metrics/classification.py:1135: UndefinedMetricWarning: Precision is ill-defined and being set to 0.0 in labels with no predicted samples.\n",
      "  'precision', 'predicted', average, warn_for)\n",
      "/usr/local/lib/python3.5/dist-packages/sklearn/metrics/classification.py:1135: UndefinedMetricWarning: F-score is ill-defined and being set to 0.0 in labels with no predicted samples.\n",
      "  'precision', 'predicted', average, warn_for)\n",
      "/usr/local/lib/python3.5/dist-packages/sklearn/metrics/classification.py:1135: UndefinedMetricWarning: Precision is ill-defined and being set to 0.0 in labels with no predicted samples.\n",
      "  'precision', 'predicted', average, warn_for)\n",
      "/usr/local/lib/python3.5/dist-packages/sklearn/metrics/classification.py:1135: UndefinedMetricWarning: F-score is ill-defined and being set to 0.0 in labels with no predicted samples.\n",
      "  'precision', 'predicted', average, warn_for)\n",
      "/usr/local/lib/python3.5/dist-packages/sklearn/metrics/classification.py:1135: UndefinedMetricWarning: Precision is ill-defined and being set to 0.0 in labels with no predicted samples.\n",
      "  'precision', 'predicted', average, warn_for)\n",
      "/usr/local/lib/python3.5/dist-packages/sklearn/metrics/classification.py:1135: UndefinedMetricWarning: F-score is ill-defined and being set to 0.0 in labels with no predicted samples.\n",
      "  'precision', 'predicted', average, warn_for)\n",
      "/usr/local/lib/python3.5/dist-packages/sklearn/metrics/classification.py:1135: UndefinedMetricWarning: Precision is ill-defined and being set to 0.0 in labels with no predicted samples.\n",
      "  'precision', 'predicted', average, warn_for)\n",
      "/usr/local/lib/python3.5/dist-packages/sklearn/metrics/classification.py:1135: UndefinedMetricWarning: F-score is ill-defined and being set to 0.0 in labels with no predicted samples.\n",
      "  'precision', 'predicted', average, warn_for)\n"
     ]
    },
    {
     "name": "stdout",
     "output_type": "stream",
     "text": [
      "{'train_recall_weighted': array([0.875     , 0.56081081, 0.88513514, 0.86655405, 0.86993243,\n",
      "       0.86148649, 0.56081081, 0.56081081, 0.56081081, 0.56060606]), 'train_precision_macro': array([0.88378378, 0.28040541, 0.8858734 , 0.86909728, 0.87145796,\n",
      "       0.86352846, 0.28040541, 0.28040541, 0.28040541, 0.28030303]), 'test_recall_macro': array([0.55452004, 0.5       , 0.44408201, 0.52889096, 0.44874185,\n",
      "       0.53494874, 0.5       , 0.5       , 0.5       , 0.5       ]), 'test_f1': array([0.65853659, 0.7184466 , 0.44776119, 0.56338028, 0.56790123,\n",
      "       0.60526316, 0.7184466 , 0.7184466 , 0.7184466 , 0.72      ]), 'test_recall_micro': array([0.57575758, 0.56060606, 0.43939394, 0.53030303, 0.46969697,\n",
      "       0.54545455, 0.56060606, 0.56060606, 0.56060606, 0.5625    ]), 'train_f1_macro': array([0.87052996, 0.35930736, 0.88265883, 0.86302678, 0.86678473,\n",
      "       0.85790392, 0.35930736, 0.35930736, 0.35930736, 0.3592233 ]), 'test_f1_macro': array([0.54926829, 0.3592233 , 0.43926521, 0.52759178, 0.44081336,\n",
      "       0.53477444, 0.3592233 , 0.3592233 , 0.3592233 , 0.36      ]), 'train_precision': array([0.84864865, 0.56081081, 0.88150289, 0.85633803, 0.86324786,\n",
      "       0.85310734, 0.56081081, 0.56081081, 0.56081081, 0.56060606]), 'train_recall': array([0.94578313, 1.        , 0.9186747 , 0.91566265, 0.9126506 ,\n",
      "       0.90963855, 1.        , 1.        , 1.        , 1.        ]), 'score_time': array([0.20930552, 0.22012162, 0.21321678, 0.23059583, 0.18683386,\n",
      "       0.2168014 , 0.16370702, 0.14719343, 0.18984938, 0.14798784]), 'train_precision_micro': array([0.875     , 0.56081081, 0.88513514, 0.86655405, 0.86993243,\n",
      "       0.86148649, 0.56081081, 0.56081081, 0.56081081, 0.56060606]), 'test_recall_weighted': array([0.57575758, 0.56060606, 0.43939394, 0.53030303, 0.46969697,\n",
      "       0.54545455, 0.56060606, 0.56060606, 0.56060606, 0.5625    ]), 'fit_time': array([1.05984402, 1.03168702, 0.91389823, 0.95764351, 0.98577285,\n",
      "       0.94766188, 0.829988  , 0.91576219, 0.90920329, 0.91477323]), 'train_recall_micro': array([0.875     , 0.56081081, 0.88513514, 0.86655405, 0.86993243,\n",
      "       0.86148649, 0.56081081, 0.56081081, 0.56081081, 0.56060606]), 'test_precision': array([0.6       , 0.56060606, 0.5       , 0.58823529, 0.52272727,\n",
      "       0.58974359, 0.56060606, 0.56060606, 0.56060606, 0.5625    ]), 'test_recall': array([0.72972973, 1.        , 0.40540541, 0.54054054, 0.62162162,\n",
      "       0.62162162, 1.        , 1.        , 1.        , 1.        ]), 'train_accuracy': array([0.875     , 0.56081081, 0.88513514, 0.86655405, 0.86993243,\n",
      "       0.86148649, 0.56081081, 0.56081081, 0.56081081, 0.56060606]), 'test_precision_weighted': array([0.56652237, 0.31427916, 0.45117845, 0.53573418, 0.45282369,\n",
      "       0.54217388, 0.31427916, 0.31427916, 0.31427916, 0.31640625]), 'test_f1_micro': array([0.57575758, 0.56060606, 0.43939394, 0.53030303, 0.46969697,\n",
      "       0.54545455, 0.56060606, 0.56060606, 0.56060606, 0.5625    ]), 'train_f1': array([0.89458689, 0.71861472, 0.89970501, 0.88500728, 0.88726208,\n",
      "       0.88046647, 0.71861472, 0.71861472, 0.71861472, 0.7184466 ]), 'test_f1_weighted': array([0.56251293, 0.40276552, 0.44029503, 0.53192978, 0.45621795,\n",
      "       0.54331852, 0.40276552, 0.40276552, 0.40276552, 0.405     ]), 'test_precision_micro': array([0.57575758, 0.56060606, 0.43939394, 0.53030303, 0.46969697,\n",
      "       0.54545455, 0.56060606, 0.56060606, 0.56060606, 0.5625    ]), 'train_f1_micro': array([0.875     , 0.56081081, 0.88513514, 0.86655405, 0.86993243,\n",
      "       0.86148649, 0.56081081, 0.56081081, 0.56081081, 0.56060606]), 'test_precision_macro': array([0.56190476, 0.28030303, 0.44444444, 0.52849265, 0.44318182,\n",
      "       0.53561254, 0.28030303, 0.28030303, 0.28030303, 0.28125   ]), 'test_accuracy': array([0.57575758, 0.56060606, 0.43939394, 0.53030303, 0.46969697,\n",
      "       0.54545455, 0.56060606, 0.56060606, 0.56060606, 0.5625    ]), 'train_precision_weighted': array([0.87951059, 0.31450877, 0.88534185, 0.86754548, 0.87045943,\n",
      "       0.86226103, 0.31450877, 0.31450877, 0.31450877, 0.31427916]), 'train_f1_weighted': array([0.8734558 , 0.4030069 , 0.88473202, 0.86570008, 0.86927522,\n",
      "       0.86064801, 0.4030069 , 0.4030069 , 0.4030069 , 0.40276552]), 'train_recall_macro': array([0.86519926, 0.5       , 0.8804912 , 0.8597544 , 0.86401761,\n",
      "       0.85481928, 0.5       , 0.5       , 0.5       , 0.5       ])}\n",
      "0.5607928601079286\n"
     ]
    }
   ],
   "source": [
    "text_clf = Pipeline([('vect', CountVectorizer()),\n",
    "                     ('tfidf', TfidfTransformer(use_idf=False)),\n",
    "                     ('clf', svm.SVC(kernel='linear', C=1, random_state=0)),\n",
    "                    ])\n",
    "print(text_clf.get_params().keys())\n",
    "Cs = np.logspace(-6, 3, 10)\n",
    "parameters = {\n",
    "    'vect__ngram_range': [(1, 1)],\n",
    "    #'clf__alpha': (1e-2, 1e-3),\n",
    "    \"clf__C\":Cs,\n",
    "}\n",
    "\n",
    "scoring = ['accuracy','precision', 'recall','f1',\n",
    "           'precision_micro', 'precision_macro', 'precision_weighted',\n",
    "           'recall_micro', 'recall_macro', 'recall_weighted',\n",
    "           'f1_micro','f1_macro','f1_weighted']\n",
    "\n",
    "gs_clf = GridSearchCV(text_clf, parameters, iid=False, n_jobs=-1)\n",
    "gs_clf = gs_clf.fit(X, y)\n",
    "scores2 = cross_validate(gs_clf, X, y, cv=10, scoring=scoring)\n",
    "print(scores2)\n",
    "print(gs_clf.best_score_)                              \n",
    "#print(gs_clf.best_estimator_.C)"
   ]
  },
  {
   "cell_type": "code",
   "execution_count": 32,
   "metadata": {},
   "outputs": [
    {
     "name": "stdout",
     "output_type": "stream",
     "text": [
      "0.5607928601079286\n",
      "clf__C: 1e-06\n",
      "vect__ngram_range: (1, 1)\n"
     ]
    }
   ],
   "source": [
    "print(gs_clf.best_score_)                                  \n",
    "for param_name in sorted(parameters.keys()):\n",
    "    print(\"%s: %r\" % (param_name, gs_clf.best_params_[param_name]))"
   ]
  },
  {
   "cell_type": "code",
   "execution_count": 33,
   "metadata": {},
   "outputs": [
    {
     "name": "stdout",
     "output_type": "stream",
     "text": [
      "Macro\n",
      "average precision is 0.391610\n",
      "average recall is 0.501118\n",
      "average f1 is 0.428861\n",
      "Micro\n",
      "average precision is 0.536553\n",
      "average recall is 0.536553\n",
      "average f1 is 0.536553\n"
     ]
    }
   ],
   "source": [
    "printScores(scores2)"
   ]
  },
  {
   "cell_type": "markdown",
   "metadata": {},
   "source": [
    "### Bigrams + Counts"
   ]
  },
  {
   "cell_type": "code",
   "execution_count": 34,
   "metadata": {},
   "outputs": [
    {
     "name": "stdout",
     "output_type": "stream",
     "text": [
      "dict_keys(['vect__input', 'clf__probability', 'vect__min_df', 'vect__vocabulary', 'clf__class_weight', 'clf__coef0', 'clf__kernel', 'vect__dtype', 'vect__decode_error', 'vect__max_df', 'clf__degree', 'memory', 'vect__analyzer', 'clf', 'clf__shrinking', 'vect__token_pattern', 'clf__tol', 'clf__max_iter', 'vect__binary', 'clf__verbose', 'vect__tokenizer', 'vect', 'vect__max_features', 'vect__strip_accents', 'clf__cache_size', 'vect__ngram_range', 'clf__C', 'vect__encoding', 'clf__gamma', 'clf__random_state', 'vect__stop_words', 'vect__preprocessor', 'vect__lowercase', 'clf__decision_function_shape', 'steps'])\n"
     ]
    },
    {
     "name": "stderr",
     "output_type": "stream",
     "text": [
      "/usr/local/lib/python3.5/dist-packages/sklearn/metrics/classification.py:1135: UndefinedMetricWarning: Precision is ill-defined and being set to 0.0 in labels with no predicted samples.\n",
      "  'precision', 'predicted', average, warn_for)\n",
      "/usr/local/lib/python3.5/dist-packages/sklearn/metrics/classification.py:1135: UndefinedMetricWarning: F-score is ill-defined and being set to 0.0 in labels with no predicted samples.\n",
      "  'precision', 'predicted', average, warn_for)\n",
      "/usr/local/lib/python3.5/dist-packages/sklearn/metrics/classification.py:1135: UndefinedMetricWarning: Precision is ill-defined and being set to 0.0 in labels with no predicted samples.\n",
      "  'precision', 'predicted', average, warn_for)\n",
      "/usr/local/lib/python3.5/dist-packages/sklearn/metrics/classification.py:1135: UndefinedMetricWarning: F-score is ill-defined and being set to 0.0 in labels with no predicted samples.\n",
      "  'precision', 'predicted', average, warn_for)\n",
      "/usr/local/lib/python3.5/dist-packages/sklearn/metrics/classification.py:1135: UndefinedMetricWarning: Precision is ill-defined and being set to 0.0 in labels with no predicted samples.\n",
      "  'precision', 'predicted', average, warn_for)\n",
      "/usr/local/lib/python3.5/dist-packages/sklearn/metrics/classification.py:1135: UndefinedMetricWarning: F-score is ill-defined and being set to 0.0 in labels with no predicted samples.\n",
      "  'precision', 'predicted', average, warn_for)\n"
     ]
    },
    {
     "name": "stdout",
     "output_type": "stream",
     "text": [
      "{'train_recall_weighted': array([1.        , 0.56081081, 1.        , 1.        , 1.        ,\n",
      "       1.        , 1.        , 0.56081081, 1.        , 0.56060606]), 'train_precision_macro': array([1.        , 0.28040541, 1.        , 1.        , 1.        ,\n",
      "       1.        , 1.        , 0.28040541, 1.        , 0.28030303]), 'test_recall_macro': array([0.53727866, 0.5       , 0.4193849 , 0.4193849 , 0.48695247,\n",
      "       0.51164958, 0.62581547, 0.5       , 0.63560112, 0.5       ]), 'test_f1': array([0.65060241, 0.7184466 , 0.47222222, 0.47222222, 0.57142857,\n",
      "       0.55555556, 0.72941176, 0.7184466 , 0.75      , 0.72      ]), 'test_recall_micro': array([0.56060606, 0.56060606, 0.42424242, 0.42424242, 0.5       ,\n",
      "       0.51515152, 0.65151515, 0.56060606, 0.66666667, 0.5625    ]), 'train_f1_macro': array([1.        , 0.35930736, 1.        , 1.        , 1.        ,\n",
      "       1.        , 1.        , 0.35930736, 1.        , 0.3592233 ]), 'test_f1_macro': array([0.52938284, 0.3592233 , 0.41944444, 0.41944444, 0.48571429,\n",
      "       0.51111111, 0.62002503, 0.3592233 , 0.625     , 0.36      ]), 'train_precision': array([1.        , 0.56081081, 1.        , 1.        , 1.        ,\n",
      "       1.        , 1.        , 0.56081081, 1.        , 0.56060606]), 'train_recall': array([1., 1., 1., 1., 1., 1., 1., 1., 1., 1.]), 'score_time': array([0.23761272, 0.2438066 , 0.24305487, 0.34274316, 0.33593941,\n",
      "       0.32762599, 0.30994558, 0.3389287 , 0.28284049, 0.26483655]), 'train_precision_micro': array([1.        , 0.56081081, 1.        , 1.        , 1.        ,\n",
      "       1.        , 1.        , 0.56081081, 1.        , 0.56060606]), 'test_recall_weighted': array([0.56060606, 0.56060606, 0.42424242, 0.42424242, 0.5       ,\n",
      "       0.51515152, 0.65151515, 0.56060606, 0.66666667, 0.5625    ]), 'fit_time': array([1.1581521 , 1.26259136, 1.27360177, 1.32798743, 1.3462677 ,\n",
      "       1.42151737, 1.4075911 , 1.37639236, 1.52646613, 1.45991635]), 'train_recall_micro': array([1.        , 0.56081081, 1.        , 1.        , 1.        ,\n",
      "       1.        , 1.        , 0.56081081, 1.        , 0.56060606]), 'test_precision': array([0.58695652, 0.56060606, 0.48571429, 0.48571429, 0.55      ,\n",
      "       0.57142857, 0.64583333, 0.56060606, 0.64705882, 0.5625    ]), 'test_recall': array([0.72972973, 1.        , 0.45945946, 0.45945946, 0.59459459,\n",
      "       0.54054054, 0.83783784, 1.        , 0.89189189, 1.        ]), 'train_accuracy': array([1.        , 0.56081081, 1.        , 1.        , 1.        ,\n",
      "       1.        , 1.        , 0.56081081, 1.        , 0.56060606]), 'test_precision_weighted': array([0.54874835, 0.31427916, 0.42820835, 0.42820835, 0.49423077,\n",
      "       0.51878229, 0.65498737, 0.31427916, 0.68496732, 0.31640625]), 'test_f1_micro': array([0.56060606, 0.56060606, 0.42424242, 0.42424242, 0.5       ,\n",
      "       0.51515152, 0.65151515, 0.56060606, 0.66666667, 0.5625    ]), 'train_f1': array([1.        , 0.71861472, 1.        , 1.        , 1.        ,\n",
      "       1.        , 1.        , 0.71861472, 1.        , 0.7184466 ]), 'test_f1_weighted': array([0.54407612, 0.40276552, 0.42584175, 0.42584175, 0.4961039 ,\n",
      "       0.51649832, 0.63328403, 0.40276552, 0.64015152, 0.405     ]), 'test_precision_micro': array([0.56060606, 0.56060606, 0.42424242, 0.42424242, 0.5       ,\n",
      "       0.51515152, 0.65151515, 0.56060606, 0.66666667, 0.5625    ]), 'train_f1_micro': array([1.        , 0.56081081, 1.        , 1.        , 1.        ,\n",
      "       1.        , 1.        , 0.56081081, 1.        , 0.56060606]), 'test_precision_macro': array([0.54347826, 0.28030303, 0.4202765 , 0.4202765 , 0.48653846,\n",
      "       0.51152074, 0.65625   , 0.28030303, 0.69019608, 0.28125   ]), 'test_accuracy': array([0.56060606, 0.56060606, 0.42424242, 0.42424242, 0.5       ,\n",
      "       0.51515152, 0.65151515, 0.56060606, 0.66666667, 0.5625    ]), 'train_precision_weighted': array([1.        , 0.31450877, 1.        , 1.        , 1.        ,\n",
      "       1.        , 1.        , 0.31450877, 1.        , 0.31427916]), 'train_f1_weighted': array([1.        , 0.4030069 , 1.        , 1.        , 1.        ,\n",
      "       1.        , 1.        , 0.4030069 , 1.        , 0.40276552]), 'train_recall_macro': array([1. , 0.5, 1. , 1. , 1. , 1. , 1. , 0.5, 1. , 0.5])}\n",
      "0.5866472948664729\n"
     ]
    }
   ],
   "source": [
    "text_clf = Pipeline([('vect', CountVectorizer()),\n",
    "                     ('clf', svm.SVC(kernel='linear', C=1, random_state=0)),\n",
    "                    ])\n",
    "print(text_clf.get_params().keys())\n",
    "Cs = np.logspace(-6, 3, 10)\n",
    "parameters = {\n",
    "    'vect__ngram_range': [(1, 2)],\n",
    "    #'clf__alpha': (1e-2, 1e-3),\n",
    "    \"clf__C\":Cs,\n",
    "}\n",
    "\n",
    "scoring = ['accuracy','precision', 'recall','f1',\n",
    "           'precision_micro', 'precision_macro', 'precision_weighted',\n",
    "           'recall_micro', 'recall_macro', 'recall_weighted',\n",
    "           'f1_micro','f1_macro','f1_weighted']\n",
    "\n",
    "gs_clf = GridSearchCV(text_clf, parameters, iid=False, n_jobs=-1)\n",
    "gs_clf = gs_clf.fit(X, y)\n",
    "scores3 = cross_validate(gs_clf, X, y, cv=10, scoring=scoring)\n",
    "print(scores3)\n",
    "print(gs_clf.best_score_)                              \n",
    "#print(gs_clf.best_estimator_.C)"
   ]
  },
  {
   "cell_type": "code",
   "execution_count": 35,
   "metadata": {},
   "outputs": [
    {
     "name": "stdout",
     "output_type": "stream",
     "text": [
      "0.5866472948664729\n",
      "clf__C: 1.0\n",
      "vect__ngram_range: (1, 2)\n"
     ]
    }
   ],
   "source": [
    "print(gs_clf.best_score_)                                  \n",
    "for param_name in sorted(parameters.keys()):\n",
    "    print(\"%s: %r\" % (param_name, gs_clf.best_params_[param_name]))"
   ]
  },
  {
   "cell_type": "code",
   "execution_count": 36,
   "metadata": {},
   "outputs": [
    {
     "name": "stdout",
     "output_type": "stream",
     "text": [
      "Macro\n",
      "average precision is 0.457039\n",
      "average recall is 0.513607\n",
      "average f1 is 0.468857\n",
      "Micro\n",
      "average precision is 0.542614\n",
      "average recall is 0.542614\n",
      "average f1 is 0.542614\n"
     ]
    }
   ],
   "source": [
    "printScores(scores3)"
   ]
  },
  {
   "cell_type": "markdown",
   "metadata": {},
   "source": [
    "### Bigrams + Frequencies"
   ]
  },
  {
   "cell_type": "code",
   "execution_count": 37,
   "metadata": {},
   "outputs": [
    {
     "name": "stdout",
     "output_type": "stream",
     "text": [
      "dict_keys(['vect__input', 'clf__probability', 'vect__min_df', 'vect__vocabulary', 'clf__class_weight', 'clf__coef0', 'clf__kernel', 'vect__dtype', 'clf__gamma', 'vect__decode_error', 'vect__max_df', 'tfidf__sublinear_tf', 'memory', 'vect__analyzer', 'clf', 'clf__shrinking', 'tfidf__norm', 'vect__token_pattern', 'tfidf__smooth_idf', 'clf__max_iter', 'vect__binary', 'clf__verbose', 'vect__tokenizer', 'tfidf__use_idf', 'clf__degree', 'vect', 'vect__max_features', 'vect__strip_accents', 'clf__cache_size', 'tfidf', 'vect__ngram_range', 'clf__C', 'vect__encoding', 'clf__tol', 'clf__random_state', 'vect__stop_words', 'vect__preprocessor', 'vect__lowercase', 'clf__decision_function_shape', 'steps'])\n"
     ]
    },
    {
     "name": "stderr",
     "output_type": "stream",
     "text": [
      "/usr/local/lib/python3.5/dist-packages/sklearn/metrics/classification.py:1135: UndefinedMetricWarning: Precision is ill-defined and being set to 0.0 in labels with no predicted samples.\n",
      "  'precision', 'predicted', average, warn_for)\n",
      "/usr/local/lib/python3.5/dist-packages/sklearn/metrics/classification.py:1135: UndefinedMetricWarning: F-score is ill-defined and being set to 0.0 in labels with no predicted samples.\n",
      "  'precision', 'predicted', average, warn_for)\n",
      "/usr/local/lib/python3.5/dist-packages/sklearn/metrics/classification.py:1135: UndefinedMetricWarning: Precision is ill-defined and being set to 0.0 in labels with no predicted samples.\n",
      "  'precision', 'predicted', average, warn_for)\n",
      "/usr/local/lib/python3.5/dist-packages/sklearn/metrics/classification.py:1135: UndefinedMetricWarning: F-score is ill-defined and being set to 0.0 in labels with no predicted samples.\n",
      "  'precision', 'predicted', average, warn_for)\n",
      "/usr/local/lib/python3.5/dist-packages/sklearn/metrics/classification.py:1135: UndefinedMetricWarning: Precision is ill-defined and being set to 0.0 in labels with no predicted samples.\n",
      "  'precision', 'predicted', average, warn_for)\n",
      "/usr/local/lib/python3.5/dist-packages/sklearn/metrics/classification.py:1135: UndefinedMetricWarning: F-score is ill-defined and being set to 0.0 in labels with no predicted samples.\n",
      "  'precision', 'predicted', average, warn_for)\n",
      "/usr/local/lib/python3.5/dist-packages/sklearn/metrics/classification.py:1135: UndefinedMetricWarning: Precision is ill-defined and being set to 0.0 in labels with no predicted samples.\n",
      "  'precision', 'predicted', average, warn_for)\n",
      "/usr/local/lib/python3.5/dist-packages/sklearn/metrics/classification.py:1135: UndefinedMetricWarning: F-score is ill-defined and being set to 0.0 in labels with no predicted samples.\n",
      "  'precision', 'predicted', average, warn_for)\n",
      "/usr/local/lib/python3.5/dist-packages/sklearn/metrics/classification.py:1135: UndefinedMetricWarning: Precision is ill-defined and being set to 0.0 in labels with no predicted samples.\n",
      "  'precision', 'predicted', average, warn_for)\n",
      "/usr/local/lib/python3.5/dist-packages/sklearn/metrics/classification.py:1135: UndefinedMetricWarning: F-score is ill-defined and being set to 0.0 in labels with no predicted samples.\n",
      "  'precision', 'predicted', average, warn_for)\n"
     ]
    },
    {
     "name": "stdout",
     "output_type": "stream",
     "text": [
      "{'train_recall_weighted': array([0.96114865, 0.56081081, 0.96790541, 0.95945946, 0.96452703,\n",
      "       0.56081081, 1.        , 0.56081081, 0.56081081, 0.56060606]), 'train_precision_macro': array([0.96317047, 0.28040541, 0.96801789, 0.96306765, 0.96457982,\n",
      "       0.28040541, 1.        , 0.28040541, 0.28040541, 0.28030303]), 'test_recall_macro': array([0.54100652, 0.5       , 0.45153774, 0.46738117, 0.45992544,\n",
      "       0.5       , 0.5027959 , 0.5       , 0.5       , 0.5       ]), 'test_f1': array([0.64197531, 0.7184466 , 0.41269841, 0.50704225, 0.53333333,\n",
      "       0.7184466 , 0.63529412, 0.7184466 , 0.7184466 , 0.72      ]), 'test_recall_micro': array([0.56060606, 0.56060606, 0.43939394, 0.46969697, 0.46969697,\n",
      "       0.56060606, 0.53030303, 0.56060606, 0.56060606, 0.5625    ]), 'train_f1_macro': array([0.96036964, 0.35930736, 0.96738188, 0.95854342, 0.96394839,\n",
      "       0.35930736, 1.        , 0.35930736, 0.35930736, 0.3592233 ]), 'test_f1_macro': array([0.53667393, 0.3592233 , 0.43823326, 0.46663588, 0.45964912,\n",
      "       0.3592233 , 0.48785982, 0.3592233 , 0.3592233 , 0.36      ]), 'train_precision': array([0.95043732, 0.56081081, 0.96716418, 0.94252874, 0.9641791 ,\n",
      "       0.56081081, 1.        , 0.56081081, 0.56081081, 0.56060606]), 'train_recall': array([0.98192771, 1.        , 0.97590361, 0.98795181, 0.97289157,\n",
      "       1.        , 1.        , 1.        , 1.        , 1.        ]), 'score_time': array([0.24742699, 0.33615851, 0.24820971, 0.26542044, 0.34244871,\n",
      "       0.33273053, 0.32511306, 0.31618953, 0.264575  , 0.27941942]), 'train_precision_micro': array([0.96114865, 0.56081081, 0.96790541, 0.95945946, 0.96452703,\n",
      "       0.56081081, 1.        , 0.56081081, 0.56081081, 0.56060606]), 'test_recall_weighted': array([0.56060606, 0.56060606, 0.43939394, 0.46969697, 0.46969697,\n",
      "       0.56060606, 0.53030303, 0.56060606, 0.56060606, 0.5625    ]), 'fit_time': array([1.42640948, 1.35622072, 1.32921767, 1.32667208, 1.3042891 ,\n",
      "       1.32314825, 1.3977437 , 1.35989714, 1.25734115, 1.31039405]), 'train_recall_micro': array([0.96114865, 0.56081081, 0.96790541, 0.95945946, 0.96452703,\n",
      "       0.56081081, 1.        , 0.56081081, 0.56081081, 0.56060606]), 'test_precision': array([0.59090909, 0.56060606, 0.5       , 0.52941176, 0.52631579,\n",
      "       0.56060606, 0.5625    , 0.56060606, 0.56060606, 0.5625    ]), 'test_recall': array([0.7027027 , 1.        , 0.35135135, 0.48648649, 0.54054054,\n",
      "       1.        , 0.72972973, 1.        , 1.        , 1.        ]), 'train_accuracy': array([0.96114865, 0.56081081, 0.96790541, 0.95945946, 0.96452703,\n",
      "       0.56081081, 1.        , 0.56081081, 0.56081081, 0.56060606]), 'test_precision_weighted': array([0.55096419, 0.31427916, 0.45606061, 0.47529523, 0.46767487,\n",
      "       0.31427916, 0.5106271 , 0.31427916, 0.31427916, 0.31640625]), 'test_f1_micro': array([0.56060606, 0.56060606, 0.43939394, 0.46969697, 0.46969697,\n",
      "       0.56060606, 0.53030303, 0.56060606, 0.56060606, 0.5625    ]), 'train_f1': array([0.96592593, 0.71861472, 0.97151424, 0.96470588, 0.96851574,\n",
      "       0.71861472, 1.        , 0.71861472, 0.71861472, 0.7184466 ]), 'test_f1_weighted': array([0.54943773, 0.40276552, 0.43513813, 0.47153362, 0.46858054,\n",
      "       0.40276552, 0.50573065, 0.40276552, 0.40276552, 0.405     ]), 'test_precision_micro': array([0.56060606, 0.56060606, 0.43939394, 0.46969697, 0.46969697,\n",
      "       0.56060606, 0.53030303, 0.56060606, 0.56060606, 0.5625    ]), 'train_f1_micro': array([0.96114865, 0.56081081, 0.96790541, 0.95945946, 0.96452703,\n",
      "       0.56081081, 1.        , 0.56081081, 0.56081081, 0.56060606]), 'test_precision_macro': array([0.54545455, 0.28030303, 0.45      , 0.46783088, 0.45958647,\n",
      "       0.28030303, 0.50347222, 0.28030303, 0.28030303, 0.28125   ]), 'test_accuracy': array([0.56060606, 0.56060606, 0.43939394, 0.46969697, 0.46969697,\n",
      "       0.56060606, 0.53030303, 0.56060606, 0.56060606, 0.5625    ]), 'train_precision_weighted': array([0.96162184, 0.31450877, 0.96791406, 0.96056967, 0.96453109,\n",
      "       0.31450877, 1.        , 0.31450877, 0.31450877, 0.31427916]), 'train_f1_weighted': array([0.96104541, 0.4030069 , 0.96788446, 0.95929291, 0.96450388,\n",
      "       0.4030069 , 1.        , 0.4030069 , 0.4030069 , 0.40276552]), 'train_recall_macro': array([0.95827155, 0.5       , 0.96679796, 0.95551437, 0.96336886,\n",
      "       0.5       , 1.        , 0.5       , 0.5       , 0.5       ])}\n",
      "0.5775356302753563\n"
     ]
    }
   ],
   "source": [
    "text_clf = Pipeline([('vect', CountVectorizer()),\n",
    "                     ('tfidf', TfidfTransformer(use_idf=False)),\n",
    "                     ('clf', svm.SVC(kernel='linear', C=1, random_state=0)),\n",
    "                    ])\n",
    "print(text_clf.get_params().keys())\n",
    "Cs = np.logspace(-6, 3, 10)\n",
    "parameters = {\n",
    "    'vect__ngram_range': [(1, 2)],\n",
    "    #'clf__alpha': (1e-2, 1e-3),\n",
    "    \"clf__C\":Cs,\n",
    "}\n",
    "\n",
    "scoring = ['accuracy','precision', 'recall','f1',\n",
    "           'precision_micro', 'precision_macro', 'precision_weighted',\n",
    "           'recall_micro', 'recall_macro', 'recall_weighted',\n",
    "           'f1_micro','f1_macro','f1_weighted']\n",
    "\n",
    "gs_clf = GridSearchCV(text_clf, parameters, iid=False, n_jobs=-1)\n",
    "gs_clf = gs_clf.fit(X, y)\n",
    "scores4 = cross_validate(gs_clf, X, y, cv=10, scoring=scoring)\n",
    "print(scores4)\n",
    "print(gs_clf.best_score_)                              \n",
    "#print(gs_clf.best_estimator_.C)"
   ]
  },
  {
   "cell_type": "code",
   "execution_count": 38,
   "metadata": {},
   "outputs": [
    {
     "name": "stdout",
     "output_type": "stream",
     "text": [
      "0.5775356302753563\n",
      "clf__C: 10.0\n",
      "vect__ngram_range: (1, 2)\n"
     ]
    }
   ],
   "source": [
    "print(gs_clf.best_score_)                                  \n",
    "for param_name in sorted(parameters.keys()):\n",
    "    print(\"%s: %r\" % (param_name, gs_clf.best_params_[param_name]))"
   ]
  },
  {
   "cell_type": "code",
   "execution_count": 39,
   "metadata": {},
   "outputs": [
    {
     "name": "stdout",
     "output_type": "stream",
     "text": [
      "Macro\n",
      "average precision is 0.382881\n",
      "average recall is 0.492265\n",
      "average f1 is 0.418595\n",
      "Micro\n",
      "average precision is 0.527462\n",
      "average recall is 0.527462\n",
      "average f1 is 0.527462\n"
     ]
    }
   ],
   "source": [
    "printScores(scores4)"
   ]
  },
  {
   "cell_type": "markdown",
   "metadata": {},
   "source": [
    "### Averaging Rrsults"
   ]
  },
  {
   "cell_type": "code",
   "execution_count": 40,
   "metadata": {},
   "outputs": [
    {
     "name": "stdout",
     "output_type": "stream",
     "text": [
      "Macro\n",
      "average precision is 0.538846\n",
      "average recall is 0.534350\n",
      "average f1 is 0.527453\n",
      "Micro\n",
      "average precision is 0.534638\n",
      "average recall is 0.534638\n",
      "average f1 is 0.534638\n"
     ]
    }
   ],
   "source": [
    "from statistics import mean\n",
    "test_precision_micro = mean([0.48148148, 0.48148148, 0.51851852, 0.54074074, 0.56296296,\n",
    "       0.49253731, 0.56716418, 0.52238806, 0.59701493, 0.58208955])\n",
    "\n",
    "test_precision_macro = mean([0.48070919, 0.48094816, 0.51837588, 0.54644525, 0.56333333,\n",
    "       0.49247698, 0.56740443, 0.52457814, 0.61754386, 0.59664306])\n",
    "\n",
    "test_recall_micro = mean([0.48148148, 0.48148148, 0.51851852, 0.54074074, 0.56296296,\n",
    "       0.49253731, 0.56716418, 0.52238806, 0.59701493, 0.58208955])\n",
    "\n",
    "test_recall_macro = mean([0.48101405, 0.48112379, 0.51832748, 0.53928885, 0.56255487,\n",
    "       0.49253731, 0.56716418, 0.52238806, 0.59701493, 0.58208955])\n",
    "    \n",
    "test_f1_micro = mean([0.48148148, 0.48148148, 0.51851852, 0.54074074, 0.56296296,\n",
    "       0.49253731, 0.56716418, 0.52238806, 0.59701493, 0.58208955])\n",
    "    \n",
    "test_f1_macro = mean([0.47916667, 0.48008363, 0.51809545, 0.52160494, 0.56142283,\n",
    "       0.49151786, 0.56677815, 0.51150604, 0.57861635, 0.56574074])\n",
    "\n",
    "print(\"Macro\")\n",
    "print(\"average precision is %f\"%test_precision_macro)\n",
    "print(\"average recall is %f\"%test_recall_macro)\n",
    "print(\"average f1 is %f\"%test_f1_macro)\n",
    "\n",
    "print(\"Micro\")\n",
    "print(\"average precision is %f\"%test_precision_micro)\n",
    "print(\"average recall is %f\"%test_recall_micro)\n",
    "print(\"average f1 is %f\"%test_f1_micro)"
   ]
  },
  {
   "cell_type": "code",
   "execution_count": null,
   "metadata": {},
   "outputs": [],
   "source": []
  },
  {
   "cell_type": "code",
   "execution_count": null,
   "metadata": {},
   "outputs": [],
   "source": []
  },
  {
   "cell_type": "code",
   "execution_count": null,
   "metadata": {},
   "outputs": [],
   "source": []
  }
 ],
 "metadata": {
  "kernelspec": {
   "display_name": "Python 3",
   "language": "python",
   "name": "python3"
  },
  "language_info": {
   "codemirror_mode": {
    "name": "ipython",
    "version": 3
   },
   "file_extension": ".py",
   "mimetype": "text/x-python",
   "name": "python",
   "nbconvert_exporter": "python",
   "pygments_lexer": "ipython3",
   "version": "3.8.5"
  }
 },
 "nbformat": 4,
 "nbformat_minor": 2
}
