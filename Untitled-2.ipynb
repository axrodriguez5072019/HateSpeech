{
 "cells": [
  {
   "cell_type": "code",
   "execution_count": 2,
   "metadata": {},
   "outputs": [],
   "source": [
    "import csv\n",
    "import json\n",
    "import pandas as pd\n",
    "\n",
    "import math"
   ]
  },
  {
   "cell_type": "code",
   "execution_count": 3,
   "metadata": {},
   "outputs": [
    {
     "name": "stdout",
     "output_type": "stream",
     "text": [
      "Column names are HITId, HITTypeId, Title, Description, Keywords, Reward, CreationTime, MaxAssignments, RequesterAnnotation, AssignmentDurationInSeconds, AutoApprovalDelayInSeconds, Expiration, NumberOfSimilarHITs, LifetimeInSeconds, AssignmentId, WorkerId, AssignmentStatus, AcceptTime, SubmitTime, AutoApprovalTime, ApprovalTime, RejectionTime, RequesterFeedback, WorkTimeInSeconds, LifetimeApprovalRate, Last30DaysApprovalRate, Last7DaysApprovalRate, Input.source, Input.sample, Answer.hate_speech.on, Answer.keywords, Answer.source, Approve, Reject\n",
      "Processed 1978 lines.\n",
      "1s 369\n",
      "0s 289\n",
      "658\n"
     ]
    }
   ],
   "source": [
    "with open('../thesis_project_files/data/july-03-manualbyaxel-Batch_3694892_batch_results.csv') as csv_file:\n",
    "    csv_reader = csv.reader(csv_file, delimiter=',')\n",
    "    line_count = 0\n",
    "    samples = {}\n",
    "    for row in csv_reader:\n",
    "        if line_count == 0:\n",
    "            print(f'Column names are {\", \".join(row)}')\n",
    "            line_count += 1\n",
    "        else:\n",
    "            source = row[27]\n",
    "            sample = row[28]\n",
    "            hs_on = row[29]\n",
    "            keywords = row[30]\n",
    "            \n",
    "            #print(hs_on)\n",
    "            if sample not in samples:\n",
    "                  samples[sample] = 0\n",
    "                  \n",
    "            if len(keywords) > 0 or \"true\" in hs_on:\n",
    "                samples[sample] += 1\n",
    "                \n",
    "                  \n",
    "            line_count += 1\n",
    "    print(f'Processed {line_count} lines.')\n",
    "                  \n",
    "    \n",
    "    json_samples = []\n",
    "    count1 = 0\n",
    "    count0 = 0\n",
    "    for sample in samples:\n",
    "        label = \"\"\n",
    "        if samples[sample] > 0:\n",
    "            label = \"hs\"\n",
    "            count1 += 1\n",
    "        else:\n",
    "            label = \"no_hs\"\n",
    "            count0 += 1\n",
    "        \n",
    "        json_samples.append({\n",
    "            'id': 1234,\n",
    "            'text': sample,\n",
    "            'label': label,\n",
    "            'name': \"none\"\n",
    "            })\n",
    "    \n",
    "    with open(\"data_manual_axel_plus_turk.json\",\"w\") as outfile:  \n",
    "        json.dump(json_samples, outfile)\n",
    "    outfile.close()\n",
    "                  \n",
    "    print(\"1s \"+str(count1))\n",
    "    print(\"0s \"+str(count0))\n",
    "    print(len(samples))"
   ]
  },
  {
   "cell_type": "code",
   "execution_count": null,
   "metadata": {},
   "outputs": [],
   "source": []
  }
 ],
 "metadata": {
  "kernelspec": {
   "display_name": "Python 3",
   "language": "python",
   "name": "python3"
  },
  "language_info": {
   "codemirror_mode": {
    "name": "ipython",
    "version": 3
   },
   "file_extension": ".py",
   "mimetype": "text/x-python",
   "name": "python",
   "nbconvert_exporter": "python",
   "pygments_lexer": "ipython3",
   "version": "3.8.5"
  }
 },
 "nbformat": 4,
 "nbformat_minor": 2
}
